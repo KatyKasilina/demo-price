{
 "cells": [
  {
   "cell_type": "code",
   "execution_count": 61,
   "metadata": {},
   "outputs": [],
   "source": [
    "import pandas as pd\n",
    "import numpy as np\n",
    "\n",
    "\n",
    "from sklearn.model_selection import cross_val_score\n",
    "from sklearn.model_selection import train_test_split\n",
    "import pickle\n",
    "\n",
    "from lightgbm import LGBMRegressor\n",
    "from sklearn.preprocessing import OneHotEncoder"
   ]
  },
  {
   "cell_type": "code",
   "execution_count": 135,
   "metadata": {},
   "outputs": [],
   "source": [
    "train_df = pd.read_csv('train.csv')\n"
   ]
  },
  {
   "cell_type": "code",
   "execution_count": 136,
   "metadata": {},
   "outputs": [],
   "source": [
    "property_type_allowed = ['Apartment','House','Townhouse','Serviced apartment',\n",
    "                         'Condominium','Loft','Bed and breakfast','Guest suite','Guesthouse',\n",
    "                         'Other','Hostel','Boutique hotel','Hotel','Bungalow','Cottage','Villa',\n",
    "                         'Boat','Aparthotel']\n",
    "train_df.loc[~train_df[\"property_type\"].isin(property_type_allowed), \"property_type\"] = \"Other\"\n",
    "\n",
    "cat_features = ['neighbourhood_cleansed', 'property_type', 'room_type', 'cancellation_policy', \n",
    "                'require_guest_phone_verification']\n",
    "\n",
    "int_features = ['accommodates', 'bedrooms', 'beds', 'security_deposit']\n",
    "\n",
    "features = ['accommodates', 'neighbourhood_cleansed', 'property_type', 'room_type', 'cancellation_policy', \n",
    "            'bedrooms', 'beds', 'require_guest_phone_verification', 'security_deposit'\n",
    "           ]"
   ]
  },
  {
   "cell_type": "code",
   "execution_count": 137,
   "metadata": {},
   "outputs": [],
   "source": [
    "def MAPE(y_true, y_pred):\n",
    "    return np.mean(np.abs((y_true-y_pred) / (y_true)).replace([-np.inf, np.inf], np.nan).dropna())*100"
   ]
  },
  {
   "cell_type": "code",
   "execution_count": null,
   "metadata": {},
   "outputs": [],
   "source": []
  },
  {
   "cell_type": "code",
   "execution_count": 138,
   "metadata": {},
   "outputs": [],
   "source": [
    "train_df = train_df.loc[(train_df.price < 1500)&(train_df.price > 0)]\n",
    "train_df.reset_index(inplace = True)"
   ]
  },
  {
   "cell_type": "code",
   "execution_count": 139,
   "metadata": {},
   "outputs": [
    {
     "data": {
      "text/plain": [
       "OneHotEncoder(categories='auto', drop=None, dtype=<class 'numpy.float64'>,\n",
       "              handle_unknown='error', sparse=True)"
      ]
     },
     "execution_count": 139,
     "metadata": {},
     "output_type": "execute_result"
    }
   ],
   "source": [
    "encoder = OneHotEncoder()\n",
    "encoder.fit(train_df[cat_features])"
   ]
  },
  {
   "cell_type": "code",
   "execution_count": 142,
   "metadata": {},
   "outputs": [],
   "source": [
    "tmp_df = encoder.transform(train_df[cat_features])\n",
    "cat_df = pd.DataFrame(tmp_df.toarray())"
   ]
  },
  {
   "cell_type": "code",
   "execution_count": 143,
   "metadata": {},
   "outputs": [],
   "source": [
    "result = pd.concat([train_df[int_features], cat_df], axis=1, sort=False)"
   ]
  },
  {
   "cell_type": "code",
   "execution_count": 144,
   "metadata": {},
   "outputs": [],
   "source": [
    "result.fillna(0, inplace = True)\n",
    "result['bedrooms'] = result['bedrooms'].astype('int')\n",
    "result['beds'] = result['beds'].astype('int')\n",
    "result['security_deposit'] = result['security_deposit'].astype('int')"
   ]
  },
  {
   "cell_type": "code",
   "execution_count": 145,
   "metadata": {},
   "outputs": [],
   "source": [
    "x_train = result\n",
    "y_train = train_df['price']  \n",
    "\n",
    "X_tr, X_tst, y_tr, y_tst =  train_test_split(x_train, y_train, random_state=42)"
   ]
  },
  {
   "cell_type": "code",
   "execution_count": 146,
   "metadata": {},
   "outputs": [
    {
     "data": {
      "text/plain": [
       "29.541465697953846"
      ]
     },
     "execution_count": 146,
     "metadata": {},
     "output_type": "execute_result"
    }
   ],
   "source": [
    "model = LGBMRegressor(objective='mae', n_estimators=150)\n",
    "model.fit(X_tr, np.log1p(y_tr))\n",
    "\n",
    "preds = np.expm1(model.predict(X_tst))\n",
    "MAPE(y_tst, preds)"
   ]
  },
  {
   "cell_type": "code",
   "execution_count": 147,
   "metadata": {},
   "outputs": [],
   "source": [
    "with open('price_model.pkl', 'wb') as output_file:\n",
    "    pickle.dump(model, output_file)\n",
    "    \n",
    "with open('one_hot_encoder.pkl', 'wb') as output_file:\n",
    "    pickle.dump(encoder, output_file)"
   ]
  }
 ],
 "metadata": {
  "kernelspec": {
   "display_name": "Python 3",
   "language": "python",
   "name": "python3"
  },
  "language_info": {
   "codemirror_mode": {
    "name": "ipython",
    "version": 3
   },
   "file_extension": ".py",
   "mimetype": "text/x-python",
   "name": "python",
   "nbconvert_exporter": "python",
   "pygments_lexer": "ipython3",
   "version": "3.7.7"
  }
 },
 "nbformat": 4,
 "nbformat_minor": 4
}
